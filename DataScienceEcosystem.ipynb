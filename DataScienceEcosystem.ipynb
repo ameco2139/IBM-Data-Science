{
 "cells": [
  {
   "cell_type": "markdown",
   "id": "2256ac49-32fb-4738-9160-93bd66144e7d",
   "metadata": {},
   "source": [
    "# Data Science Tools and Ecosystem\n"
   ]
  },
  {
   "cell_type": "markdown",
   "id": "d68c1d97-edda-4b87-b3ba-3e184b0ff87e",
   "metadata": {},
   "source": [
    "In this notebook, Data Science Tools and Ecosystem are summarized.\r\n"
   ]
  },
  {
   "cell_type": "markdown",
   "id": "09357bb8-6075-4342-96c3-f4a5c1abad5f",
   "metadata": {},
   "source": [
    "**Objectives:**\r\n",
    "- List popular languages for Data Science\r\n",
    "- List commonly used libraries in Data Science\r\n",
    "- Demonstrate arithmetic operations in Python\r\n",
    "- Create and format Markdown cells in a Jupyter notebook\r\n",
    "- Create and execute code cells in Python\r\n"
   ]
  },
  {
   "cell_type": "markdown",
   "id": "6a1a02b0-4627-4bed-ba70-b6ee876895b0",
   "metadata": {},
   "source": [
    "Some of the popular languages that Data Scientists use are:\r\n",
    "1. Python  \r\n",
    "2. R  \r\n",
    "3. SQL  \r\n",
    "4. Julia  \r\n",
    "5. Scala\r\n"
   ]
  },
  {
   "cell_type": "markdown",
   "id": "093f4ae7-e9f7-400a-b54c-ae0e3a3293b6",
   "metadata": {},
   "source": [
    "Some of the commonly used libraries used by Data Scientists include:\r\n",
    "1. Pandas  \r\n",
    "2. NumPy  \r\n",
    "3. Matplotlib  \r\n",
    "4. Scikit-learn  \r\n",
    "5. TensorFlow\r\n"
   ]
  },
  {
   "cell_type": "markdown",
   "id": "73888f49-9674-4529-890a-02ae1f1a1bf2",
   "metadata": {},
   "source": [
    "| Data Science Tools |\r\n",
    "|--------------------|\r\n",
    "| Jupyter Notebook   |\r\n",
    "| RStudio            |\r\n",
    "| Apache Zeppelin    |\r\n"
   ]
  },
  {
   "cell_type": "markdown",
   "id": "7d2e22af-e3d3-494f-bbc8-aac339d335be",
   "metadata": {},
   "source": [
    "### Below are a few examples of evaluating arithmetic expressions in Python.\r\n"
   ]
  },
  {
   "cell_type": "code",
   "execution_count": 8,
   "id": "af122067-348f-47e4-a245-88f1f8867ad0",
   "metadata": {},
   "outputs": [
    {
     "data": {
      "text/plain": [
       "17"
      ]
     },
     "execution_count": 8,
     "metadata": {},
     "output_type": "execute_result"
    }
   ],
   "source": [
    "# This a simple arithmetic expression to multiply then add integers\r\n",
    "(3 * 4) +5\r\n"
   ]
  },
  {
   "cell_type": "code",
   "execution_count": 9,
   "id": "b461797e-8d47-4501-827b-9780e7f52fb9",
   "metadata": {},
   "outputs": [
    {
     "data": {
      "text/plain": [
       "3.3333333333333335"
      ]
     },
     "execution_count": 9,
     "metadata": {},
     "output_type": "execute_result"
    }
   ],
   "source": [
    "# This will convert 200 minutes to hours by dividing by 60\n",
    "200 / 60"
   ]
  },
  {
   "cell_type": "markdown",
   "id": "cf538514-6349-41ca-9803-f5eb2bfb8dc8",
   "metadata": {},
   "source": [
    "## Author\r",
    "Amanuel Gebremariame\r\n"
   ]
  }
 ],
 "metadata": {
  "kernelspec": {
   "display_name": "Python 3 (ipykernel)",
   "language": "python",
   "name": "python3"
  },
  "language_info": {
   "codemirror_mode": {
    "name": "ipython",
    "version": 3
   },
   "file_extension": ".py",
   "mimetype": "text/x-python",
   "name": "python",
   "nbconvert_exporter": "python",
   "pygments_lexer": "ipython3",
   "version": "3.12.4"
  }
 },
 "nbformat": 4,
 "nbformat_minor": 5
}
